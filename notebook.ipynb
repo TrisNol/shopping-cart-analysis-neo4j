{
 "cells": [
  {
   "cell_type": "markdown",
   "metadata": {},
   "source": [
    "# Shopping Cart Analysis with Neo4j"
   ]
  },
  {
   "cell_type": "code",
   "execution_count": 1,
   "metadata": {},
   "outputs": [],
   "source": [
    "import pandas as pd \n",
    "import numpy as np\n",
    "import matplotlib.pyplot as plt"
   ]
  },
  {
   "cell_type": "markdown",
   "metadata": {},
   "source": [
    "## Data preparation and ingestion"
   ]
  },
  {
   "cell_type": "code",
   "execution_count": 2,
   "metadata": {},
   "outputs": [
    {
     "data": {
      "text/html": [
       "<div>\n",
       "<style scoped>\n",
       "    .dataframe tbody tr th:only-of-type {\n",
       "        vertical-align: middle;\n",
       "    }\n",
       "\n",
       "    .dataframe tbody tr th {\n",
       "        vertical-align: top;\n",
       "    }\n",
       "\n",
       "    .dataframe thead th {\n",
       "        text-align: right;\n",
       "    }\n",
       "</style>\n",
       "<table border=\"1\" class=\"dataframe\">\n",
       "  <thead>\n",
       "    <tr style=\"text-align: right;\">\n",
       "      <th></th>\n",
       "      <th>date</th>\n",
       "      <th>transaction</th>\n",
       "      <th>product</th>\n",
       "    </tr>\n",
       "  </thead>\n",
       "  <tbody>\n",
       "    <tr>\n",
       "      <th>0</th>\n",
       "      <td>2000-01-01</td>\n",
       "      <td>1</td>\n",
       "      <td>yogurt</td>\n",
       "    </tr>\n",
       "    <tr>\n",
       "      <th>1</th>\n",
       "      <td>2000-01-01</td>\n",
       "      <td>1</td>\n",
       "      <td>pork</td>\n",
       "    </tr>\n",
       "    <tr>\n",
       "      <th>2</th>\n",
       "      <td>2000-01-01</td>\n",
       "      <td>1</td>\n",
       "      <td>sandwich bags</td>\n",
       "    </tr>\n",
       "    <tr>\n",
       "      <th>3</th>\n",
       "      <td>2000-01-01</td>\n",
       "      <td>1</td>\n",
       "      <td>lunch meat</td>\n",
       "    </tr>\n",
       "    <tr>\n",
       "      <th>4</th>\n",
       "      <td>2000-01-01</td>\n",
       "      <td>1</td>\n",
       "      <td>all- purpose</td>\n",
       "    </tr>\n",
       "  </tbody>\n",
       "</table>\n",
       "</div>"
      ],
      "text/plain": [
       "         date  transaction        product\n",
       "0  2000-01-01            1         yogurt\n",
       "1  2000-01-01            1           pork\n",
       "2  2000-01-01            1  sandwich bags\n",
       "3  2000-01-01            1     lunch meat\n",
       "4  2000-01-01            1   all- purpose"
      ]
     },
     "execution_count": 2,
     "metadata": {},
     "output_type": "execute_result"
    }
   ],
   "source": [
    "df = pd.read_csv('./data/dataset_group.csv', delimiter=',', names=['date', 'transaction', 'product'])\n",
    "df.head()"
   ]
  },
  {
   "cell_type": "code",
   "execution_count": 3,
   "metadata": {},
   "outputs": [
    {
     "data": {
      "text/html": [
       "<div>\n",
       "<style scoped>\n",
       "    .dataframe tbody tr th:only-of-type {\n",
       "        vertical-align: middle;\n",
       "    }\n",
       "\n",
       "    .dataframe tbody tr th {\n",
       "        vertical-align: top;\n",
       "    }\n",
       "\n",
       "    .dataframe thead th {\n",
       "        text-align: right;\n",
       "    }\n",
       "</style>\n",
       "<table border=\"1\" class=\"dataframe\">\n",
       "  <thead>\n",
       "    <tr style=\"text-align: right;\">\n",
       "      <th></th>\n",
       "      <th>transaction</th>\n",
       "      <th>date</th>\n",
       "      <th>products</th>\n",
       "    </tr>\n",
       "  </thead>\n",
       "  <tbody>\n",
       "    <tr>\n",
       "      <th>0</th>\n",
       "      <td>1</td>\n",
       "      <td>2000-01-01</td>\n",
       "      <td>[yogurt, pork, sandwich bags, lunch meat, all-...</td>\n",
       "    </tr>\n",
       "    <tr>\n",
       "      <th>1</th>\n",
       "      <td>2</td>\n",
       "      <td>2000-01-01</td>\n",
       "      <td>[toilet paper, shampoo, hand soap, waffles, ve...</td>\n",
       "    </tr>\n",
       "    <tr>\n",
       "      <th>2</th>\n",
       "      <td>3</td>\n",
       "      <td>2000-01-02</td>\n",
       "      <td>[soda, pork, soap, ice cream, toilet paper, di...</td>\n",
       "    </tr>\n",
       "    <tr>\n",
       "      <th>3</th>\n",
       "      <td>4</td>\n",
       "      <td>2000-01-02</td>\n",
       "      <td>[cereals, juice, lunch meat, soda, toilet pape...</td>\n",
       "    </tr>\n",
       "    <tr>\n",
       "      <th>4</th>\n",
       "      <td>5</td>\n",
       "      <td>2000-01-02</td>\n",
       "      <td>[sandwich loaves, pasta, tortillas, mixes, han...</td>\n",
       "    </tr>\n",
       "  </tbody>\n",
       "</table>\n",
       "</div>"
      ],
      "text/plain": [
       "   transaction        date                                           products\n",
       "0            1  2000-01-01  [yogurt, pork, sandwich bags, lunch meat, all-...\n",
       "1            2  2000-01-01  [toilet paper, shampoo, hand soap, waffles, ve...\n",
       "2            3  2000-01-02  [soda, pork, soap, ice cream, toilet paper, di...\n",
       "3            4  2000-01-02  [cereals, juice, lunch meat, soda, toilet pape...\n",
       "4            5  2000-01-02  [sandwich loaves, pasta, tortillas, mixes, han..."
      ]
     },
     "execution_count": 3,
     "metadata": {},
     "output_type": "execute_result"
    }
   ],
   "source": [
    "transactions = df.groupby(['transaction', 'date'])['product'].apply(list).reset_index(name='products')\n",
    "transactions.head()"
   ]
  },
  {
   "cell_type": "code",
   "execution_count": 4,
   "metadata": {},
   "outputs": [],
   "source": [
    "from neo4j import GraphDatabase\n",
    "\n",
    "# Inspiration taken from: https://towardsdatascience.com/create-a-graph-database-in-neo4j-using-python-4172d40f89c4\n",
    "class Neo4jConnection:\n",
    "\n",
    "    def __init__(self, uri, user, password):\n",
    "        self.driver = GraphDatabase.driver(uri, auth=(user, password))\n",
    "\n",
    "    def close(self):\n",
    "        self.driver.close()\n",
    "\n",
    "    def print_greeting(self, message):\n",
    "        with self.driver.session() as session:\n",
    "            greeting = session.execute_write(self._create_and_return_greeting, message)\n",
    "            print(greeting)\n",
    "    \n",
    "    def query(self, query, parameters=None, db=None):\n",
    "        assert self.driver is not None, \"Driver not initialized!\"\n",
    "        session = None\n",
    "        response = None\n",
    "        try: \n",
    "            session = self.driver.session(database=db) if db is not None else self.driver.session() \n",
    "            response = list(session.run(query, parameters))\n",
    "        except Exception as e:\n",
    "            print(\"Query failed:\", e)\n",
    "        finally: \n",
    "            if session is not None:\n",
    "                session.close()\n",
    "        return response"
   ]
  },
  {
   "cell_type": "code",
   "execution_count": 5,
   "metadata": {},
   "outputs": [],
   "source": [
    "conn = Neo4jConnection(\"bolt://localhost:7687\", \"neo4j\", \"!Random_Password1234\")"
   ]
  },
  {
   "cell_type": "code",
   "execution_count": 6,
   "metadata": {},
   "outputs": [
    {
     "data": {
      "text/plain": [
       "[]"
      ]
     },
     "execution_count": 6,
     "metadata": {},
     "output_type": "execute_result"
    }
   ],
   "source": [
    "# Create entities and apply unique constraints to avoid duplicates\n",
    "conn.query('CREATE CONSTRAINT transactions IF NOT EXISTS ON (t:Transactions) ASSERT t.id IS UNIQUE')\n",
    "conn.query('CREATE CONSTRAINT products IF NOT EXISTS ON (p:Products) ASSERT p.name IS UNIQUE')\n"
   ]
  },
  {
   "cell_type": "code",
   "execution_count": 7,
   "metadata": {},
   "outputs": [],
   "source": [
    "import time\n",
    "def insert_data(query, rows, batch_size=10000):\n",
    "    total = 0\n",
    "    batch = 0\n",
    "    start = time.time()\n",
    "    result = None\n",
    "        \n",
    "    while batch * batch_size < len(rows):\n",
    "\n",
    "        res = conn.query(query, \n",
    "                            parameters = {'rows': rows[batch*batch_size:(batch+1)*batch_size]})\n",
    "        total += res[0]['total'] if len(res) > 0 else 0\n",
    "        batch += 1\n",
    "        result = {\"total\":total, \n",
    "                    \"batches\":batch, \n",
    "                    \"time\":time.time()-start}\n",
    "        print(result)\n",
    "            \n",
    "    return result\n",
    "\n",
    "def add_products(rows):\n",
    "    query = '''\n",
    "            UNWIND $rows AS row\n",
    "            MERGE (:Products {name: row})\n",
    "            RETURN count(*) as total\n",
    "            '''\n",
    "    return insert_data(query, rows)\n",
    "    \n",
    "def add_transactions(rows, batch_size=5000):\n",
    "    query = '''\n",
    "        UNWIND $rows as row\n",
    "        MERGE (t:Transactions {id:row.transaction}) ON CREATE SET t.date = row.date\n",
    "        \n",
    "        WITH row, t\n",
    "        UNWIND row.products AS product\n",
    "        MATCH (p:Products {name: product})\n",
    "        // connect products to transactions\n",
    "        MERGE (p)-[:IN]->(t)\n",
    "        // connect transactions to products\n",
    "        MERGE (t)-[:CONTAINS]->(p)\n",
    "        '''\n",
    "        \n",
    "    return insert_data(query, rows, batch_size)"
   ]
  },
  {
   "cell_type": "code",
   "execution_count": 8,
   "metadata": {},
   "outputs": [
    {
     "name": "stdout",
     "output_type": "stream",
     "text": [
      "{'total': 38, 'batches': 1, 'time': 0.4343256950378418}\n"
     ]
    },
    {
     "data": {
      "text/plain": [
       "{'total': 38, 'batches': 1, 'time': 0.4343256950378418}"
      ]
     },
     "execution_count": 8,
     "metadata": {},
     "output_type": "execute_result"
    }
   ],
   "source": [
    "products = df['product'].unique()\n",
    "add_products(list(products))\n"
   ]
  },
  {
   "cell_type": "code",
   "execution_count": 9,
   "metadata": {},
   "outputs": [
    {
     "name": "stdout",
     "output_type": "stream",
     "text": [
      "{'total': 0, 'batches': 1, 'time': 7.65553092956543}\n"
     ]
    },
    {
     "data": {
      "text/plain": [
       "{'total': 0, 'batches': 1, 'time': 7.65553092956543}"
      ]
     },
     "execution_count": 9,
     "metadata": {},
     "output_type": "execute_result"
    }
   ],
   "source": [
    "transaction_transformed = transactions.to_dict(orient='records')\n",
    "add_transactions(transaction_transformed)"
   ]
  },
  {
   "cell_type": "code",
   "execution_count": 10,
   "metadata": {},
   "outputs": [],
   "source": [
    "conn.close()"
   ]
  }
 ],
 "metadata": {
  "kernelspec": {
   "display_name": "Python 3.10.4 ('venv': venv)",
   "language": "python",
   "name": "python3"
  },
  "language_info": {
   "codemirror_mode": {
    "name": "ipython",
    "version": 3
   },
   "file_extension": ".py",
   "mimetype": "text/x-python",
   "name": "python",
   "nbconvert_exporter": "python",
   "pygments_lexer": "ipython3",
   "version": "3.10.4"
  },
  "orig_nbformat": 4,
  "vscode": {
   "interpreter": {
    "hash": "c2f7e90c835e707d76bfe8d39decc05d7c98d25fadedfa3e29845aa5fba6e0f3"
   }
  }
 },
 "nbformat": 4,
 "nbformat_minor": 2
}
